{
 "cells": [
  {
   "cell_type": "code",
   "execution_count": 29,
   "metadata": {},
   "outputs": [
    {
     "name": "stdout",
     "output_type": "stream",
     "text": [
      "Index(['Title', 'Lyric'], dtype='object')\n",
      "Index(['Title', 'Lyric'], dtype='object')\n",
      "Index(['Title', 'Lyric'], dtype='object')\n",
      "Index(['Title', 'Lyric'], dtype='object')\n",
      "Index(['Title', 'Lyric'], dtype='object')\n",
      "Index(['Title', 'Lyric'], dtype='object')\n",
      "Index(['Title', 'Lyric'], dtype='object')\n",
      "Index(['Title', 'Lyric'], dtype='object')\n",
      "Index(['Title', 'Lyric'], dtype='object')\n",
      "Index(['Title', 'Lyric'], dtype='object')\n",
      "Index(['Title', 'Lyric'], dtype='object')\n",
      "Index(['Title', 'Lyric'], dtype='object')\n",
      "Index(['Title', 'Lyric'], dtype='object')\n"
     ]
    }
   ],
   "source": [
    "artist = [\"ArianaGrande\", \"Beyonce\", \"EdSheeran\", \"CardiB\", \"ColdPlay\", \"DuaLipa\", \"JustinBieber\", \n",
    "        \"KatyPerry\", \"Khalid\", \"TaylorSwift\", \"BillieEilish\", \"NickiMinaj\", \"SelenaGomez\"]\n",
    "\n",
    "import pandas as pd\n",
    "\n",
    "for i in range(len(artist)):\n",
    "    df = pd.read_csv(\"../data/\" + artist[i] + \".csv\")\n",
    "    if \"Unnamed: 0\" in df.columns:\n",
    "        df = df.drop(columns=[\"Unnamed: 0\"])\n",
    "    df.drop([\"Artist\", \"Album\", \"Year\", \"Date\"], axis=1, inplace=True)\n",
    "    ## merging all the dataframes\n",
    "    if i == 0:\n",
    "        df_final = df\n",
    "    else:\n",
    "        df_final = pd.concat([df_final, df])\n",
    "    print(df.columns)"
   ]
  },
  {
   "cell_type": "code",
   "execution_count": 30,
   "metadata": {},
   "outputs": [
    {
     "data": {
      "text/plain": [
       "(3535, 2)"
      ]
     },
     "execution_count": 30,
     "metadata": {},
     "output_type": "execute_result"
    }
   ],
   "source": [
    "df_final.shape"
   ]
  },
  {
   "cell_type": "code",
   "execution_count": 31,
   "metadata": {},
   "outputs": [],
   "source": [
    "df = df_final.copy()"
   ]
  },
  {
   "cell_type": "code",
   "execution_count": 32,
   "metadata": {},
   "outputs": [
    {
     "data": {
      "text/html": [
       "<div>\n",
       "<style scoped>\n",
       "    .dataframe tbody tr th:only-of-type {\n",
       "        vertical-align: middle;\n",
       "    }\n",
       "\n",
       "    .dataframe tbody tr th {\n",
       "        vertical-align: top;\n",
       "    }\n",
       "\n",
       "    .dataframe thead th {\n",
       "        text-align: right;\n",
       "    }\n",
       "</style>\n",
       "<table border=\"1\" class=\"dataframe\">\n",
       "  <thead>\n",
       "    <tr style=\"text-align: right;\">\n",
       "      <th></th>\n",
       "      <th>Title</th>\n",
       "      <th>Lyric</th>\n",
       "    </tr>\n",
       "  </thead>\n",
       "  <tbody>\n",
       "    <tr>\n",
       "      <th>0</th>\n",
       "      <td>​thank u, next</td>\n",
       "      <td>thought i'd end up with sean but he wasn't a m...</td>\n",
       "    </tr>\n",
       "    <tr>\n",
       "      <th>1</th>\n",
       "      <td>7 rings</td>\n",
       "      <td>yeah breakfast at tiffany's and bottles of bub...</td>\n",
       "    </tr>\n",
       "    <tr>\n",
       "      <th>2</th>\n",
       "      <td>​God is a woman</td>\n",
       "      <td>you you love it how i move you you love it how...</td>\n",
       "    </tr>\n",
       "    <tr>\n",
       "      <th>3</th>\n",
       "      <td>Side To Side</td>\n",
       "      <td>ariana grande  nicki minaj i've been here all ...</td>\n",
       "    </tr>\n",
       "    <tr>\n",
       "      <th>4</th>\n",
       "      <td>​​no tears left to cry</td>\n",
       "      <td>right now i'm in a state of mind i wanna be in...</td>\n",
       "    </tr>\n",
       "  </tbody>\n",
       "</table>\n",
       "</div>"
      ],
      "text/plain": [
       "                    Title                                              Lyric\n",
       "0          ​thank u, next  thought i'd end up with sean but he wasn't a m...\n",
       "1                 7 rings  yeah breakfast at tiffany's and bottles of bub...\n",
       "2         ​God is a woman  you you love it how i move you you love it how...\n",
       "3            Side To Side  ariana grande  nicki minaj i've been here all ...\n",
       "4  ​​no tears left to cry  right now i'm in a state of mind i wanna be in..."
      ]
     },
     "execution_count": 32,
     "metadata": {},
     "output_type": "execute_result"
    }
   ],
   "source": [
    "df.head()"
   ]
  },
  {
   "cell_type": "code",
   "execution_count": 33,
   "metadata": {},
   "outputs": [],
   "source": [
    "## removing the rows with null values\n",
    "df.dropna(inplace=True)"
   ]
  },
  {
   "cell_type": "code",
   "execution_count": 34,
   "metadata": {},
   "outputs": [
    {
     "data": {
      "text/plain": [
       "(3514, 2)"
      ]
     },
     "execution_count": 34,
     "metadata": {},
     "output_type": "execute_result"
    }
   ],
   "source": [
    "df.shape"
   ]
  },
  {
   "cell_type": "code",
   "execution_count": 35,
   "metadata": {},
   "outputs": [
    {
     "data": {
      "text/plain": [
       "0    thought i'd end up with sean but he wasn't a m...\n",
       "0    beyoncé i've been drinkin' i've been drinkin' ...\n",
       "0    the club isn't the best place to find a lover ...\n",
       "0    cardi b al t mclaran  megan thee stallion whor...\n",
       "0    come up to meet you tell you i'm sorry you don...\n",
       "0    one one one one one   talkin' in my sleep at n...\n",
       "0    produced by benny blanco   for all the times t...\n",
       "0    refrain they know what is what but they don't ...\n",
       "0    so you're still thinking of me just like i kno...\n",
       "0    vintage tee brand new phone high heels on cobb...\n",
       "0    don't you know i'm no good for you i've learne...\n",
       "0    nicki minaj yo i never fucked wayne i never fu...\n",
       "0    you promised the world and i fell for it i put...\n",
       "Name: Lyric, dtype: object"
      ]
     },
     "execution_count": 35,
     "metadata": {},
     "output_type": "execute_result"
    }
   ],
   "source": [
    "## printing the lyrics for the first 5 rows\n",
    "df.Lyric[0]"
   ]
  },
  {
   "cell_type": "code",
   "execution_count": 36,
   "metadata": {},
   "outputs": [],
   "source": [
    "## saving the dataframe\n",
    "df.to_csv(\"../data/lyrics.csv\", index=False)"
   ]
  },
  {
   "cell_type": "code",
   "execution_count": null,
   "metadata": {},
   "outputs": [],
   "source": []
  }
 ],
 "metadata": {
  "kernelspec": {
   "display_name": "Python 3",
   "language": "python",
   "name": "python3"
  },
  "language_info": {
   "codemirror_mode": {
    "name": "ipython",
    "version": 3
   },
   "file_extension": ".py",
   "mimetype": "text/x-python",
   "name": "python",
   "nbconvert_exporter": "python",
   "pygments_lexer": "ipython3",
   "version": "3.10.9"
  },
  "orig_nbformat": 4,
  "vscode": {
   "interpreter": {
    "hash": "b0fa6594d8f4cbf19f97940f81e996739fb7646882a419484c72d19e05852a7e"
   }
  }
 },
 "nbformat": 4,
 "nbformat_minor": 2
}
