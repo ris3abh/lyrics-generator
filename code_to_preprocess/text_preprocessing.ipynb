{
 "cells": [
  {
   "cell_type": "code",
   "execution_count": 1,
   "metadata": {},
   "outputs": [],
   "source": [
    "import pandas as pd\n",
    "import numpy as np\n",
    "import re\n",
    "import nltk\n",
    "from nltk.corpus import stopwords\n",
    "from nltk.stem import WordNetLemmatizer\n",
    "from nltk.tokenize import word_tokenize\n",
    "from nltk.stem import PorterStemmer\n",
    "from nltk.tokenize import sent_tokenize, word_tokenize"
   ]
  },
  {
   "cell_type": "code",
   "execution_count": 22,
   "metadata": {},
   "outputs": [],
   "source": [
    "df = pd.read_csv('../data/lyrics.csv')"
   ]
  },
  {
   "cell_type": "code",
   "execution_count": 23,
   "metadata": {},
   "outputs": [
    {
     "data": {
      "text/html": [
       "<div>\n",
       "<style scoped>\n",
       "    .dataframe tbody tr th:only-of-type {\n",
       "        vertical-align: middle;\n",
       "    }\n",
       "\n",
       "    .dataframe tbody tr th {\n",
       "        vertical-align: top;\n",
       "    }\n",
       "\n",
       "    .dataframe thead th {\n",
       "        text-align: right;\n",
       "    }\n",
       "</style>\n",
       "<table border=\"1\" class=\"dataframe\">\n",
       "  <thead>\n",
       "    <tr style=\"text-align: right;\">\n",
       "      <th></th>\n",
       "      <th>Title</th>\n",
       "      <th>Lyric</th>\n",
       "    </tr>\n",
       "  </thead>\n",
       "  <tbody>\n",
       "    <tr>\n",
       "      <th>0</th>\n",
       "      <td>​thank u, next</td>\n",
       "      <td>thought i'd end up with sean but he wasn't a m...</td>\n",
       "    </tr>\n",
       "    <tr>\n",
       "      <th>1</th>\n",
       "      <td>7 rings</td>\n",
       "      <td>yeah breakfast at tiffany's and bottles of bub...</td>\n",
       "    </tr>\n",
       "    <tr>\n",
       "      <th>2</th>\n",
       "      <td>​God is a woman</td>\n",
       "      <td>you you love it how i move you you love it how...</td>\n",
       "    </tr>\n",
       "    <tr>\n",
       "      <th>3</th>\n",
       "      <td>Side To Side</td>\n",
       "      <td>ariana grande  nicki minaj i've been here all ...</td>\n",
       "    </tr>\n",
       "    <tr>\n",
       "      <th>4</th>\n",
       "      <td>​​no tears left to cry</td>\n",
       "      <td>right now i'm in a state of mind i wanna be in...</td>\n",
       "    </tr>\n",
       "  </tbody>\n",
       "</table>\n",
       "</div>"
      ],
      "text/plain": [
       "                    Title                                              Lyric\n",
       "0          ​thank u, next  thought i'd end up with sean but he wasn't a m...\n",
       "1                 7 rings  yeah breakfast at tiffany's and bottles of bub...\n",
       "2         ​God is a woman  you you love it how i move you you love it how...\n",
       "3            Side To Side  ariana grande  nicki minaj i've been here all ...\n",
       "4  ​​no tears left to cry  right now i'm in a state of mind i wanna be in..."
      ]
     },
     "execution_count": 23,
     "metadata": {},
     "output_type": "execute_result"
    }
   ],
   "source": [
    "df.head()"
   ]
  },
  {
   "cell_type": "code",
   "execution_count": 24,
   "metadata": {},
   "outputs": [],
   "source": [
    "import spacy\n",
    "nlp = spacy.load('en_core_web_lg')"
   ]
  },
  {
   "cell_type": "code",
   "execution_count": 25,
   "metadata": {},
   "outputs": [],
   "source": [
    "def remove_stopwords(text):\n",
    "    filtered_text = []\n",
    "    for word in text.split():\n",
    "        lexeme = nlp.vocab[word]\n",
    "        if lexeme.is_stop == False:\n",
    "            filtered_text.append(word)\n",
    "    return \" \".join(filtered_text)\n",
    "\n",
    "df['Lyric'] = df['Lyric'].apply(remove_stopwords)"
   ]
  },
  {
   "cell_type": "code",
   "execution_count": 26,
   "metadata": {},
   "outputs": [],
   "source": [
    "## using tensorflow\n",
    "import tensorflow as tf\n",
    "from tensorflow.keras.preprocessing.text import Tokenizer\n",
    "from tensorflow.keras.preprocessing.sequence import pad_sequences\n",
    "\n",
    "tokenizer = Tokenizer(num_words=10000, oov_token=\"<OOV>\")\n",
    "tokenizer.fit_on_texts(df['Lyric'])\n",
    "word_index = tokenizer.word_index\n",
    "sequences = tokenizer.texts_to_sequences(df['Lyric'])\n",
    "padded = pad_sequences(sequences, padding='post')"
   ]
  },
  {
   "cell_type": "code",
   "execution_count": 27,
   "metadata": {},
   "outputs": [
    {
     "name": "stdout",
     "output_type": "stream",
     "text": [
      "[109, 77, 162, 639, 480, 1536, 936, 531, 4659, 301, 560, 9, 1671, 7457, 2, 987, 120, 281, 3842, 19, 501, 26, 872, 5, 872, 1279, 872, 320, 2, 858, 38, 345, 38, 146, 29, 36, 9, 36, 872, 281, 281, 281, 2, 608, 774, 1028, 281, 281, 281, 2, 608, 502, 18, 176, 24, 822, 88, 465, 832, 394, 2145, 51, 8683, 6, 495, 124, 19, 6677, 2, 34, 34, 26, 872, 5, 5, 872, 1279, 1279, 7458, 320, 320, 2637, 858, 8, 140, 858, 38, 345, 38, 146, 8, 8, 29, 8, 8, 19, 36, 38, 234, 8, 8, 24, 17, 1372, 281, 281, 281, 281, 281, 281, 2, 608, 774, 1028, 281, 281, 281, 41, 281, 281, 2, 608, 774, 1028, 148, 281, 281, 281, 2, 608, 56, 21, 143, 4343, 552, 106, 228, 21, 7459, 1072, 19, 1769, 1373, 15, 104, 57, 124, 90, 181, 5955, 1374, 66, 1297, 66, 1297, 26, 38, 9, 5, 5, 9, 1279, 1279, 38, 689, 320, 320, 649, 858, 649, 858, 38, 345, 38, 146, 8, 8, 29, 8, 8, 19, 36, 38, 234, 8, 8, 24, 17, 1372, 281, 281, 281, 281, 281, 2, 608, 774, 1028, 281, 281, 281, 41, 281, 281, 2, 608, 774, 1028, 148, 281, 281, 281, 8, 1991, 281, 281, 281, 8, 1991]\n",
      "[109  77 162 ...   0   0   0]\n"
     ]
    }
   ],
   "source": [
    "print(sequences[0])\n",
    "print(padded[0])"
   ]
  },
  {
   "cell_type": "code",
   "execution_count": 28,
   "metadata": {},
   "outputs": [
    {
     "name": "stdout",
     "output_type": "stream",
     "text": [
      "(3514, 2862)\n"
     ]
    }
   ],
   "source": [
    "print(padded.shape)"
   ]
  },
  {
   "cell_type": "code",
   "execution_count": 33,
   "metadata": {},
   "outputs": [
    {
     "data": {
      "text/html": [
       "<div>\n",
       "<style scoped>\n",
       "    .dataframe tbody tr th:only-of-type {\n",
       "        vertical-align: middle;\n",
       "    }\n",
       "\n",
       "    .dataframe tbody tr th {\n",
       "        vertical-align: top;\n",
       "    }\n",
       "\n",
       "    .dataframe thead th {\n",
       "        text-align: right;\n",
       "    }\n",
       "</style>\n",
       "<table border=\"1\" class=\"dataframe\">\n",
       "  <thead>\n",
       "    <tr style=\"text-align: right;\">\n",
       "      <th></th>\n",
       "      <th>0</th>\n",
       "      <th>1</th>\n",
       "      <th>2</th>\n",
       "      <th>3</th>\n",
       "      <th>4</th>\n",
       "      <th>5</th>\n",
       "      <th>6</th>\n",
       "      <th>7</th>\n",
       "      <th>8</th>\n",
       "      <th>9</th>\n",
       "      <th>...</th>\n",
       "      <th>2852</th>\n",
       "      <th>2853</th>\n",
       "      <th>2854</th>\n",
       "      <th>2855</th>\n",
       "      <th>2856</th>\n",
       "      <th>2857</th>\n",
       "      <th>2858</th>\n",
       "      <th>2859</th>\n",
       "      <th>2860</th>\n",
       "      <th>2861</th>\n",
       "    </tr>\n",
       "  </thead>\n",
       "  <tbody>\n",
       "    <tr>\n",
       "      <th>0</th>\n",
       "      <td>109</td>\n",
       "      <td>77</td>\n",
       "      <td>162</td>\n",
       "      <td>639</td>\n",
       "      <td>480</td>\n",
       "      <td>1536</td>\n",
       "      <td>936</td>\n",
       "      <td>531</td>\n",
       "      <td>4659</td>\n",
       "      <td>301</td>\n",
       "      <td>...</td>\n",
       "      <td>0</td>\n",
       "      <td>0</td>\n",
       "      <td>0</td>\n",
       "      <td>0</td>\n",
       "      <td>0</td>\n",
       "      <td>0</td>\n",
       "      <td>0</td>\n",
       "      <td>0</td>\n",
       "      <td>0</td>\n",
       "      <td>0</td>\n",
       "    </tr>\n",
       "    <tr>\n",
       "      <th>1</th>\n",
       "      <td>8</td>\n",
       "      <td>3053</td>\n",
       "      <td>5446</td>\n",
       "      <td>1298</td>\n",
       "      <td>3179</td>\n",
       "      <td>75</td>\n",
       "      <td>2146</td>\n",
       "      <td>3</td>\n",
       "      <td>164</td>\n",
       "      <td>462</td>\n",
       "      <td>...</td>\n",
       "      <td>0</td>\n",
       "      <td>0</td>\n",
       "      <td>0</td>\n",
       "      <td>0</td>\n",
       "      <td>0</td>\n",
       "      <td>0</td>\n",
       "      <td>0</td>\n",
       "      <td>0</td>\n",
       "      <td>0</td>\n",
       "      <td>0</td>\n",
       "    </tr>\n",
       "    <tr>\n",
       "      <th>2</th>\n",
       "      <td>5</td>\n",
       "      <td>5</td>\n",
       "      <td>93</td>\n",
       "      <td>41</td>\n",
       "      <td>68</td>\n",
       "      <td>98</td>\n",
       "      <td>181</td>\n",
       "      <td>224</td>\n",
       "      <td>27</td>\n",
       "      <td>1537</td>\n",
       "      <td>...</td>\n",
       "      <td>0</td>\n",
       "      <td>0</td>\n",
       "      <td>0</td>\n",
       "      <td>0</td>\n",
       "      <td>0</td>\n",
       "      <td>0</td>\n",
       "      <td>0</td>\n",
       "      <td>0</td>\n",
       "      <td>0</td>\n",
       "      <td>0</td>\n",
       "    </tr>\n",
       "    <tr>\n",
       "      <th>3</th>\n",
       "      <td>149</td>\n",
       "      <td>157</td>\n",
       "      <td>80</td>\n",
       "      <td>122</td>\n",
       "      <td>38</td>\n",
       "      <td>35</td>\n",
       "      <td>149</td>\n",
       "      <td>38</td>\n",
       "      <td>56</td>\n",
       "      <td>80</td>\n",
       "      <td>...</td>\n",
       "      <td>0</td>\n",
       "      <td>0</td>\n",
       "      <td>0</td>\n",
       "      <td>0</td>\n",
       "      <td>0</td>\n",
       "      <td>0</td>\n",
       "      <td>0</td>\n",
       "      <td>0</td>\n",
       "      <td>0</td>\n",
       "      <td>0</td>\n",
       "    </tr>\n",
       "    <tr>\n",
       "      <th>4</th>\n",
       "      <td>25</td>\n",
       "      <td>2</td>\n",
       "      <td>1091</td>\n",
       "      <td>53</td>\n",
       "      <td>15</td>\n",
       "      <td>3</td>\n",
       "      <td>18</td>\n",
       "      <td>24</td>\n",
       "      <td>9</td>\n",
       "      <td>335</td>\n",
       "      <td>...</td>\n",
       "      <td>0</td>\n",
       "      <td>0</td>\n",
       "      <td>0</td>\n",
       "      <td>0</td>\n",
       "      <td>0</td>\n",
       "      <td>0</td>\n",
       "      <td>0</td>\n",
       "      <td>0</td>\n",
       "      <td>0</td>\n",
       "      <td>0</td>\n",
       "    </tr>\n",
       "  </tbody>\n",
       "</table>\n",
       "<p>5 rows × 2862 columns</p>\n",
       "</div>"
      ],
      "text/plain": [
       "   0     1     2     3     4     5     6     7     8     9     ...  2852  \\\n",
       "0   109    77   162   639   480  1536   936   531  4659   301  ...     0   \n",
       "1     8  3053  5446  1298  3179    75  2146     3   164   462  ...     0   \n",
       "2     5     5    93    41    68    98   181   224    27  1537  ...     0   \n",
       "3   149   157    80   122    38    35   149    38    56    80  ...     0   \n",
       "4    25     2  1091    53    15     3    18    24     9   335  ...     0   \n",
       "\n",
       "   2853  2854  2855  2856  2857  2858  2859  2860  2861  \n",
       "0     0     0     0     0     0     0     0     0     0  \n",
       "1     0     0     0     0     0     0     0     0     0  \n",
       "2     0     0     0     0     0     0     0     0     0  \n",
       "3     0     0     0     0     0     0     0     0     0  \n",
       "4     0     0     0     0     0     0     0     0     0  \n",
       "\n",
       "[5 rows x 2862 columns]"
      ]
     },
     "execution_count": 33,
     "metadata": {},
     "output_type": "execute_result"
    }
   ],
   "source": [
    "## create a dataframe with the padded sequences\n",
    "df_padded = pd.DataFrame(padded)\n",
    "df_padded.head()"
   ]
  }
 ],
 "metadata": {
  "kernelspec": {
   "display_name": "Python 3",
   "language": "python",
   "name": "python3"
  },
  "language_info": {
   "codemirror_mode": {
    "name": "ipython",
    "version": 3
   },
   "file_extension": ".py",
   "mimetype": "text/x-python",
   "name": "python",
   "nbconvert_exporter": "python",
   "pygments_lexer": "ipython3",
   "version": "3.10.9"
  },
  "orig_nbformat": 4,
  "vscode": {
   "interpreter": {
    "hash": "b0fa6594d8f4cbf19f97940f81e996739fb7646882a419484c72d19e05852a7e"
   }
  }
 },
 "nbformat": 4,
 "nbformat_minor": 2
}
